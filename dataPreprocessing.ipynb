{
  "nbformat": 4,
  "nbformat_minor": 0,
  "metadata": {
    "colab": {
      "provenance": [],
      "authorship_tag": "ABX9TyNkRYr2pbYu+M+wVlNRQiOq",
      "include_colab_link": true
    },
    "kernelspec": {
      "name": "python3",
      "display_name": "Python 3"
    },
    "language_info": {
      "name": "python"
    }
  },
  "cells": [
    {
      "cell_type": "markdown",
      "metadata": {
        "id": "view-in-github",
        "colab_type": "text"
      },
      "source": [
        "<a href=\"https://colab.research.google.com/github/ElSangour/B_Language_Compiler/blob/master/dataPreprocessing.ipynb\" target=\"_parent\"><img src=\"https://colab.research.google.com/assets/colab-badge.svg\" alt=\"Open In Colab\"/></a>"
      ]
    },
    {
      "cell_type": "markdown",
      "source": [
        "**Importing the libraries**\n"
      ],
      "metadata": {
        "id": "d3qrNAjJzBZj"
      }
    },
    {
      "cell_type": "code",
      "source": [
        "import numpy as np\n",
        "import matplotlib.pyplot as plt\n",
        "import pandas as pd"
      ],
      "metadata": {
        "id": "utofNPZbzLxA"
      },
      "execution_count": 1,
      "outputs": []
    },
    {
      "cell_type": "markdown",
      "source": [
        "**Importing the Dataset**"
      ],
      "metadata": {
        "id": "lt5rvvpb155R"
      }
    },
    {
      "cell_type": "code",
      "source": [
        "dataset=pd.read_csv('/dataSet.csv')\n",
        "x=dataset.iloc[:,:-1].values\n",
        "y=dataset.iloc[:,-1].values"
      ],
      "metadata": {
        "id": "1sh3duFg2BFu"
      },
      "execution_count": 8,
      "outputs": []
    },
    {
      "cell_type": "code",
      "source": [
        "print(x)"
      ],
      "metadata": {
        "colab": {
          "base_uri": "https://localhost:8080/"
        },
        "id": "_7QAjMSM47GC",
        "outputId": "3c40b131-80f9-41b7-de66-2ee2af8ae5b1"
      },
      "execution_count": 9,
      "outputs": [
        {
          "output_type": "stream",
          "name": "stdout",
          "text": [
            "[['Australia' 40.0 98479.0]\n",
            " ['Sudan' 3.0 88582.0]\n",
            " ['Western Sahara' 28.0 81129.0]\n",
            " ['Botswana' 49.0 nan]\n",
            " ['Lithuania' 6.0 83036.0]\n",
            " ['Andorra' 58.0 98158.0]\n",
            " ['South Georgia and the South Sandwich Islands' 57.0 90484.0]\n",
            " ['Saint Helena' 13.0 70478.0]\n",
            " ['Tuvalu' 45.0 64905.0]\n",
            " ['Holy See (Vatican City State)' 59.0 68932.0]\n",
            " ['Germany' nan 75000.0]]\n"
          ]
        }
      ]
    },
    {
      "cell_type": "code",
      "source": [
        "print(y)"
      ],
      "metadata": {
        "colab": {
          "base_uri": "https://localhost:8080/"
        },
        "id": "4S0tbKvW48ZB",
        "outputId": "7c4a3bab-8773-4bef-ec5d-c6c7dc335d54"
      },
      "execution_count": 10,
      "outputs": [
        {
          "output_type": "stream",
          "name": "stdout",
          "text": [
            "['No' 'No' 'No' 'Yes' 'Yes' 'Yes' 'Yes' 'No' 'No' 'Yes' 'Yes']\n"
          ]
        }
      ]
    },
    {
      "cell_type": "markdown",
      "source": [
        "**Handling Missing Data**\n"
      ],
      "metadata": {
        "id": "1er2i8Zi9F8M"
      }
    },
    {
      "cell_type": "code",
      "source": [
        "from sklearn.impute import SimpleImputer\n",
        "imputer=SimpleImputer(missing_values=np.nan,strategy='mean')\n",
        "imputer.fit(x[:,1:3])\n",
        "x[:,1:3]=imputer.transform(x[:,1:3])\n",
        "print(x)\n"
      ],
      "metadata": {
        "colab": {
          "base_uri": "https://localhost:8080/"
        },
        "id": "WbVanySY9JZm",
        "outputId": "7d0fe802-8026-4d8b-f82f-1511eb1db4dc"
      },
      "execution_count": 19,
      "outputs": [
        {
          "output_type": "stream",
          "name": "stdout",
          "text": [
            "[['Australia' 40.0 98479.0]\n",
            " ['Sudan' 3.0 88582.0]\n",
            " ['Western Sahara' 28.0 81129.0]\n",
            " ['Botswana' 49.0 81918.3]\n",
            " ['Lithuania' 6.0 83036.0]\n",
            " ['Andorra' 58.0 98158.0]\n",
            " ['South Georgia and the South Sandwich Islands' 57.0 90484.0]\n",
            " ['Saint Helena' 13.0 70478.0]\n",
            " ['Tuvalu' 45.0 64905.0]\n",
            " ['Holy See (Vatican City State)' 59.0 68932.0]\n",
            " ['Germany' 35.8 75000.0]]\n"
          ]
        }
      ]
    }
  ]
}